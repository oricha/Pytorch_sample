{
  "nbformat": 4,
  "nbformat_minor": 0,
  "metadata": {
    "colab": {
      "name": "Untitled",
      "provenance": [],
      "collapsed_sections": []
    },
    "kernelspec": {
      "name": "python3",
      "display_name": "Python 3"
    }
  },
  "cells": [
    {
      "cell_type": "code",
      "metadata": {
        "id": "HkiXflZMfrBV",
        "colab_type": "code",
        "colab": {}
      },
      "source": [
        "import torch\n",
        "import numpy as np\n",
        "import pandas as pd"
      ],
      "execution_count": 0,
      "outputs": []
    },
    {
      "cell_type": "markdown",
      "metadata": {
        "id": "nbisdrYtf8VY",
        "colab_type": "text"
      },
      "source": [
        "# Trabajando con tensores"
      ]
    },
    {
      "cell_type": "code",
      "metadata": {
        "id": "iKklRrmLgBPo",
        "colab_type": "code",
        "outputId": "e89155c3-e363-4711-8661-23ed1628a3e9",
        "colab": {
          "base_uri": "https://localhost:8080/",
          "height": 34
        }
      },
      "source": [
        "torch.__version__"
      ],
      "execution_count": 0,
      "outputs": [
        {
          "output_type": "execute_result",
          "data": {
            "text/plain": [
              "'1.3.1'"
            ]
          },
          "metadata": {
            "tags": []
          },
          "execution_count": 6
        }
      ]
    },
    {
      "cell_type": "code",
      "metadata": {
        "id": "u11nyVMhgV8C",
        "colab_type": "code",
        "outputId": "7a7ef9a3-b693-4731-82cf-05ea2db236a6",
        "colab": {
          "base_uri": "https://localhost:8080/",
          "height": 51
        }
      },
      "source": [
        "tensor_a = torch.ones(2, 2)\n",
        "tensor_a"
      ],
      "execution_count": 0,
      "outputs": [
        {
          "output_type": "execute_result",
          "data": {
            "text/plain": [
              "tensor([[1., 1.],\n",
              "        [1., 1.]])"
            ]
          },
          "metadata": {
            "tags": []
          },
          "execution_count": 7
        }
      ]
    },
    {
      "cell_type": "code",
      "metadata": {
        "id": "AQiQxiWggi8V",
        "colab_type": "code",
        "outputId": "4ed30101-f3a1-48ae-a985-302b909e0407",
        "colab": {
          "base_uri": "https://localhost:8080/",
          "height": 85
        }
      },
      "source": [
        "tensor_b = torch.Tensor(2, 2)\n",
        "print(tensor_b)\n",
        "tensor_b.uniform_(0, 1)"
      ],
      "execution_count": 0,
      "outputs": [
        {
          "output_type": "stream",
          "text": [
            "tensor([[2.0096e-36, 0.0000e+00],\n",
            "        [3.7835e-44, 0.0000e+00]])\n"
          ],
          "name": "stdout"
        },
        {
          "output_type": "execute_result",
          "data": {
            "text/plain": [
              "tensor([[0.0016, 0.8143],\n",
              "        [0.9784, 0.3117]])"
            ]
          },
          "metadata": {
            "tags": []
          },
          "execution_count": 8
        }
      ]
    },
    {
      "cell_type": "code",
      "metadata": {
        "id": "jsBhYLT2hWmI",
        "colab_type": "code",
        "outputId": "4318224e-df8d-434a-8c33-6d6fd0a9205a",
        "colab": {
          "base_uri": "https://localhost:8080/",
          "height": 51
        }
      },
      "source": [
        "tensor_c = torch.rand(2, 2)\n",
        "tensor_c"
      ],
      "execution_count": 0,
      "outputs": [
        {
          "output_type": "execute_result",
          "data": {
            "text/plain": [
              "tensor([[0.5205, 0.9008],\n",
              "        [0.4485, 0.9716]])"
            ]
          },
          "metadata": {
            "tags": []
          },
          "execution_count": 9
        }
      ]
    },
    {
      "cell_type": "code",
      "metadata": {
        "id": "bnZfAIzfhgjn",
        "colab_type": "code",
        "outputId": "8d80bf92-d246-4764-c7ce-bf8322344c83",
        "colab": {
          "base_uri": "https://localhost:8080/",
          "height": 51
        }
      },
      "source": [
        "result = tensor_a + tensor_b\n",
        "result"
      ],
      "execution_count": 0,
      "outputs": [
        {
          "output_type": "execute_result",
          "data": {
            "text/plain": [
              "tensor([[1.0016, 1.8143],\n",
              "        [1.9784, 1.3117]])"
            ]
          },
          "metadata": {
            "tags": []
          },
          "execution_count": 10
        }
      ]
    },
    {
      "cell_type": "code",
      "metadata": {
        "id": "QGyNDkJ1hqCN",
        "colab_type": "code",
        "outputId": "4977f33d-be47-400d-a088-951220d22576",
        "colab": {
          "base_uri": "https://localhost:8080/",
          "height": 85
        }
      },
      "source": [
        "result.shape\n",
        "reshaped = result.view(4,1)\n",
        "reshaped"
      ],
      "execution_count": 0,
      "outputs": [
        {
          "output_type": "execute_result",
          "data": {
            "text/plain": [
              "tensor([[1.0016],\n",
              "        [1.8143],\n",
              "        [1.9784],\n",
              "        [1.3117]])"
            ]
          },
          "metadata": {
            "tags": []
          },
          "execution_count": 13
        }
      ]
    },
    {
      "cell_type": "code",
      "metadata": {
        "id": "nhGjRUzmk_8q",
        "colab_type": "code",
        "outputId": "a5010cc2-a058-4734-bf3f-6478b8c5dd45",
        "colab": {
          "base_uri": "https://localhost:8080/",
          "height": 170
        }
      },
      "source": [
        "points = torch.tensor([[1.0,2.0],[3.0, 4.0]])\n",
        "print(points)\n",
        "points[0][1] =  2.5\n",
        "print(points)\n",
        "points.storage()"
      ],
      "execution_count": 0,
      "outputs": [
        {
          "output_type": "stream",
          "text": [
            "tensor([[1., 2.],\n",
            "        [3., 4.]])\n",
            "tensor([[1.0000, 2.5000],\n",
            "        [3.0000, 4.0000]])\n"
          ],
          "name": "stdout"
        },
        {
          "output_type": "execute_result",
          "data": {
            "text/plain": [
              " 1.0\n",
              " 2.5\n",
              " 3.0\n",
              " 4.0\n",
              "[torch.FloatStorage of size 4]"
            ]
          },
          "metadata": {
            "tags": []
          },
          "execution_count": 18
        }
      ]
    },
    {
      "cell_type": "code",
      "metadata": {
        "id": "1zKx7Loaoc_0",
        "colab_type": "code",
        "colab": {}
      },
      "source": [
        "points, points.stride()"
      ],
      "execution_count": 0,
      "outputs": []
    },
    {
      "cell_type": "code",
      "metadata": {
        "id": "fRkfvwKcooNE",
        "colab_type": "code",
        "outputId": "dfac6bda-5c33-4f27-a6dc-8fe77b04da20",
        "colab": {
          "base_uri": "https://localhost:8080/",
          "height": 51
        }
      },
      "source": [
        "p_t = points.t()\n",
        "p_t , p_t.stride()"
      ],
      "execution_count": 0,
      "outputs": [
        {
          "output_type": "execute_result",
          "data": {
            "text/plain": [
              "(tensor([[1.0000, 3.0000],\n",
              "         [2.5000, 4.0000]]), (1, 2))"
            ]
          },
          "metadata": {
            "tags": []
          },
          "execution_count": 19
        }
      ]
    },
    {
      "cell_type": "code",
      "metadata": {
        "id": "zqGdJGKio5Rh",
        "colab_type": "code",
        "outputId": "78b6bfc0-f380-4075-ce10-f6a7fe0bc1e3",
        "colab": {
          "base_uri": "https://localhost:8080/",
          "height": 85
        }
      },
      "source": [
        "tensor_x = torch.tensor([1,2,3,4])\n",
        "#tensor_x, torch.unsqueeze(tensor_x, 0)\n",
        "tensor_x, torch.unsqueeze(tensor_x, 1)"
      ],
      "execution_count": 0,
      "outputs": [
        {
          "output_type": "execute_result",
          "data": {
            "text/plain": [
              "(tensor([1, 2, 3, 4]), tensor([[1],\n",
              "         [2],\n",
              "         [3],\n",
              "         [4]]))"
            ]
          },
          "metadata": {
            "tags": []
          },
          "execution_count": 25
        }
      ]
    },
    {
      "cell_type": "code",
      "metadata": {
        "id": "-TjEQucLss93",
        "colab_type": "code",
        "colab": {}
      },
      "source": [
        "numpyArray = np.random.randn(2,2)\n",
        "from_numpy = torch.from_numpy(numpyArray)"
      ],
      "execution_count": 0,
      "outputs": []
    },
    {
      "cell_type": "markdown",
      "metadata": {
        "id": "tPIFbe7u2f5H",
        "colab_type": "text"
      },
      "source": [
        "# Representar datos con tensores"
      ]
    },
    {
      "cell_type": "code",
      "metadata": {
        "id": "OICNCddY2kxs",
        "colab_type": "code",
        "outputId": "111fcb13-4151-48c3-ca39-219ba8d4e69e",
        "colab": {
          "base_uri": "https://localhost:8080/",
          "height": 102
        }
      },
      "source": [
        "print(from_numpy)\n",
        "\n",
        "print(torch.mean(from_numpy))\n",
        "print(torch.mean(from_numpy, dim=0))\n",
        "print(torch.mean(from_numpy, dim=1))"
      ],
      "execution_count": 0,
      "outputs": [
        {
          "output_type": "stream",
          "text": [
            "tensor([[ 0.0101, -0.6923],\n",
            "        [ 0.8385, -1.0621]], dtype=torch.float64)\n",
            "tensor(-0.2264, dtype=torch.float64)\n",
            "tensor([ 0.4243, -0.8772], dtype=torch.float64)\n",
            "tensor([-0.3411, -0.1118], dtype=torch.float64)\n"
          ],
          "name": "stdout"
        }
      ]
    },
    {
      "cell_type": "code",
      "metadata": {
        "id": "g5aV_zVE8XFh",
        "colab_type": "code",
        "colab": {}
      },
      "source": [
        "torch.std(from_numpy, dim=1)\n"
      ],
      "execution_count": 0,
      "outputs": []
    },
    {
      "cell_type": "code",
      "metadata": {
        "id": "4-venR_r8kax",
        "colab_type": "code",
        "colab": {}
      },
      "source": [
        "load = torch.save(from_numpy, 'tensor.t')\n",
        "load"
      ],
      "execution_count": 0,
      "outputs": []
    },
    {
      "cell_type": "code",
      "metadata": {
        "id": "eE-hwFi89UgX",
        "colab_type": "code",
        "outputId": "2b5cc1e8-c068-472d-8781-ca0299fbb296",
        "colab": {
          "base_uri": "https://localhost:8080/",
          "height": 643
        }
      },
      "source": [
        "url = \"https://raw.githubusercontent.com/amanthedorkknight/fifa18-all-player-statistics/master/2019/data.csv\"\n",
        "dataframe = pd.read_csv(url)\n",
        "dataframe"
      ],
      "execution_count": 0,
      "outputs": [
        {
          "output_type": "execute_result",
          "data": {
            "text/html": [
              "<div>\n",
              "<style scoped>\n",
              "    .dataframe tbody tr th:only-of-type {\n",
              "        vertical-align: middle;\n",
              "    }\n",
              "\n",
              "    .dataframe tbody tr th {\n",
              "        vertical-align: top;\n",
              "    }\n",
              "\n",
              "    .dataframe thead th {\n",
              "        text-align: right;\n",
              "    }\n",
              "</style>\n",
              "<table border=\"1\" class=\"dataframe\">\n",
              "  <thead>\n",
              "    <tr style=\"text-align: right;\">\n",
              "      <th></th>\n",
              "      <th>Unnamed: 0</th>\n",
              "      <th>ID</th>\n",
              "      <th>Name</th>\n",
              "      <th>Age</th>\n",
              "      <th>Photo</th>\n",
              "      <th>Nationality</th>\n",
              "      <th>Flag</th>\n",
              "      <th>Overall</th>\n",
              "      <th>Potential</th>\n",
              "      <th>Club</th>\n",
              "      <th>Club Logo</th>\n",
              "      <th>Value</th>\n",
              "      <th>Wage</th>\n",
              "      <th>Special</th>\n",
              "      <th>Preferred Foot</th>\n",
              "      <th>International Reputation</th>\n",
              "      <th>Weak Foot</th>\n",
              "      <th>Skill Moves</th>\n",
              "      <th>Work Rate</th>\n",
              "      <th>Body Type</th>\n",
              "      <th>Real Face</th>\n",
              "      <th>Position</th>\n",
              "      <th>Jersey Number</th>\n",
              "      <th>Joined</th>\n",
              "      <th>Loaned From</th>\n",
              "      <th>Contract Valid Until</th>\n",
              "      <th>Height</th>\n",
              "      <th>Weight</th>\n",
              "      <th>LS</th>\n",
              "      <th>ST</th>\n",
              "      <th>RS</th>\n",
              "      <th>LW</th>\n",
              "      <th>LF</th>\n",
              "      <th>CF</th>\n",
              "      <th>RF</th>\n",
              "      <th>RW</th>\n",
              "      <th>LAM</th>\n",
              "      <th>CAM</th>\n",
              "      <th>RAM</th>\n",
              "      <th>LM</th>\n",
              "      <th>...</th>\n",
              "      <th>LB</th>\n",
              "      <th>LCB</th>\n",
              "      <th>CB</th>\n",
              "      <th>RCB</th>\n",
              "      <th>RB</th>\n",
              "      <th>Crossing</th>\n",
              "      <th>Finishing</th>\n",
              "      <th>HeadingAccuracy</th>\n",
              "      <th>ShortPassing</th>\n",
              "      <th>Volleys</th>\n",
              "      <th>Dribbling</th>\n",
              "      <th>Curve</th>\n",
              "      <th>FKAccuracy</th>\n",
              "      <th>LongPassing</th>\n",
              "      <th>BallControl</th>\n",
              "      <th>Acceleration</th>\n",
              "      <th>SprintSpeed</th>\n",
              "      <th>Agility</th>\n",
              "      <th>Reactions</th>\n",
              "      <th>Balance</th>\n",
              "      <th>ShotPower</th>\n",
              "      <th>Jumping</th>\n",
              "      <th>Stamina</th>\n",
              "      <th>Strength</th>\n",
              "      <th>LongShots</th>\n",
              "      <th>Aggression</th>\n",
              "      <th>Interceptions</th>\n",
              "      <th>Positioning</th>\n",
              "      <th>Vision</th>\n",
              "      <th>Penalties</th>\n",
              "      <th>Composure</th>\n",
              "      <th>Marking</th>\n",
              "      <th>StandingTackle</th>\n",
              "      <th>SlidingTackle</th>\n",
              "      <th>GKDiving</th>\n",
              "      <th>GKHandling</th>\n",
              "      <th>GKKicking</th>\n",
              "      <th>GKPositioning</th>\n",
              "      <th>GKReflexes</th>\n",
              "      <th>Release Clause</th>\n",
              "    </tr>\n",
              "  </thead>\n",
              "  <tbody>\n",
              "    <tr>\n",
              "      <th>0</th>\n",
              "      <td>0</td>\n",
              "      <td>158023</td>\n",
              "      <td>L. Messi</td>\n",
              "      <td>31</td>\n",
              "      <td>https://cdn.sofifa.org/players/4/19/158023.png</td>\n",
              "      <td>Argentina</td>\n",
              "      <td>https://cdn.sofifa.org/flags/52.png</td>\n",
              "      <td>94</td>\n",
              "      <td>94</td>\n",
              "      <td>FC Barcelona</td>\n",
              "      <td>https://cdn.sofifa.org/teams/2/light/241.png</td>\n",
              "      <td>€110.5M</td>\n",
              "      <td>€565K</td>\n",
              "      <td>2202</td>\n",
              "      <td>Left</td>\n",
              "      <td>5.0</td>\n",
              "      <td>4.0</td>\n",
              "      <td>4.0</td>\n",
              "      <td>Medium/ Medium</td>\n",
              "      <td>Messi</td>\n",
              "      <td>Yes</td>\n",
              "      <td>RF</td>\n",
              "      <td>10.0</td>\n",
              "      <td>Jul 1, 2004</td>\n",
              "      <td>NaN</td>\n",
              "      <td>2021</td>\n",
              "      <td>5'7</td>\n",
              "      <td>159lbs</td>\n",
              "      <td>88+2</td>\n",
              "      <td>88+2</td>\n",
              "      <td>88+2</td>\n",
              "      <td>92+2</td>\n",
              "      <td>93+2</td>\n",
              "      <td>93+2</td>\n",
              "      <td>93+2</td>\n",
              "      <td>92+2</td>\n",
              "      <td>93+2</td>\n",
              "      <td>93+2</td>\n",
              "      <td>93+2</td>\n",
              "      <td>91+2</td>\n",
              "      <td>...</td>\n",
              "      <td>59+2</td>\n",
              "      <td>47+2</td>\n",
              "      <td>47+2</td>\n",
              "      <td>47+2</td>\n",
              "      <td>59+2</td>\n",
              "      <td>84.0</td>\n",
              "      <td>95.0</td>\n",
              "      <td>70.0</td>\n",
              "      <td>90.0</td>\n",
              "      <td>86.0</td>\n",
              "      <td>97.0</td>\n",
              "      <td>93.0</td>\n",
              "      <td>94.0</td>\n",
              "      <td>87.0</td>\n",
              "      <td>96.0</td>\n",
              "      <td>91.0</td>\n",
              "      <td>86.0</td>\n",
              "      <td>91.0</td>\n",
              "      <td>95.0</td>\n",
              "      <td>95.0</td>\n",
              "      <td>85.0</td>\n",
              "      <td>68.0</td>\n",
              "      <td>72.0</td>\n",
              "      <td>59.0</td>\n",
              "      <td>94.0</td>\n",
              "      <td>48.0</td>\n",
              "      <td>22.0</td>\n",
              "      <td>94.0</td>\n",
              "      <td>94.0</td>\n",
              "      <td>75.0</td>\n",
              "      <td>96.0</td>\n",
              "      <td>33.0</td>\n",
              "      <td>28.0</td>\n",
              "      <td>26.0</td>\n",
              "      <td>6.0</td>\n",
              "      <td>11.0</td>\n",
              "      <td>15.0</td>\n",
              "      <td>14.0</td>\n",
              "      <td>8.0</td>\n",
              "      <td>€226.5M</td>\n",
              "    </tr>\n",
              "    <tr>\n",
              "      <th>1</th>\n",
              "      <td>1</td>\n",
              "      <td>20801</td>\n",
              "      <td>Cristiano Ronaldo</td>\n",
              "      <td>33</td>\n",
              "      <td>https://cdn.sofifa.org/players/4/19/20801.png</td>\n",
              "      <td>Portugal</td>\n",
              "      <td>https://cdn.sofifa.org/flags/38.png</td>\n",
              "      <td>94</td>\n",
              "      <td>94</td>\n",
              "      <td>Juventus</td>\n",
              "      <td>https://cdn.sofifa.org/teams/2/light/45.png</td>\n",
              "      <td>€77M</td>\n",
              "      <td>€405K</td>\n",
              "      <td>2228</td>\n",
              "      <td>Right</td>\n",
              "      <td>5.0</td>\n",
              "      <td>4.0</td>\n",
              "      <td>5.0</td>\n",
              "      <td>High/ Low</td>\n",
              "      <td>C. Ronaldo</td>\n",
              "      <td>Yes</td>\n",
              "      <td>ST</td>\n",
              "      <td>7.0</td>\n",
              "      <td>Jul 10, 2018</td>\n",
              "      <td>NaN</td>\n",
              "      <td>2022</td>\n",
              "      <td>6'2</td>\n",
              "      <td>183lbs</td>\n",
              "      <td>91+3</td>\n",
              "      <td>91+3</td>\n",
              "      <td>91+3</td>\n",
              "      <td>89+3</td>\n",
              "      <td>90+3</td>\n",
              "      <td>90+3</td>\n",
              "      <td>90+3</td>\n",
              "      <td>89+3</td>\n",
              "      <td>88+3</td>\n",
              "      <td>88+3</td>\n",
              "      <td>88+3</td>\n",
              "      <td>88+3</td>\n",
              "      <td>...</td>\n",
              "      <td>61+3</td>\n",
              "      <td>53+3</td>\n",
              "      <td>53+3</td>\n",
              "      <td>53+3</td>\n",
              "      <td>61+3</td>\n",
              "      <td>84.0</td>\n",
              "      <td>94.0</td>\n",
              "      <td>89.0</td>\n",
              "      <td>81.0</td>\n",
              "      <td>87.0</td>\n",
              "      <td>88.0</td>\n",
              "      <td>81.0</td>\n",
              "      <td>76.0</td>\n",
              "      <td>77.0</td>\n",
              "      <td>94.0</td>\n",
              "      <td>89.0</td>\n",
              "      <td>91.0</td>\n",
              "      <td>87.0</td>\n",
              "      <td>96.0</td>\n",
              "      <td>70.0</td>\n",
              "      <td>95.0</td>\n",
              "      <td>95.0</td>\n",
              "      <td>88.0</td>\n",
              "      <td>79.0</td>\n",
              "      <td>93.0</td>\n",
              "      <td>63.0</td>\n",
              "      <td>29.0</td>\n",
              "      <td>95.0</td>\n",
              "      <td>82.0</td>\n",
              "      <td>85.0</td>\n",
              "      <td>95.0</td>\n",
              "      <td>28.0</td>\n",
              "      <td>31.0</td>\n",
              "      <td>23.0</td>\n",
              "      <td>7.0</td>\n",
              "      <td>11.0</td>\n",
              "      <td>15.0</td>\n",
              "      <td>14.0</td>\n",
              "      <td>11.0</td>\n",
              "      <td>€127.1M</td>\n",
              "    </tr>\n",
              "    <tr>\n",
              "      <th>2</th>\n",
              "      <td>2</td>\n",
              "      <td>190871</td>\n",
              "      <td>Neymar Jr</td>\n",
              "      <td>26</td>\n",
              "      <td>https://cdn.sofifa.org/players/4/19/190871.png</td>\n",
              "      <td>Brazil</td>\n",
              "      <td>https://cdn.sofifa.org/flags/54.png</td>\n",
              "      <td>92</td>\n",
              "      <td>93</td>\n",
              "      <td>Paris Saint-Germain</td>\n",
              "      <td>https://cdn.sofifa.org/teams/2/light/73.png</td>\n",
              "      <td>€118.5M</td>\n",
              "      <td>€290K</td>\n",
              "      <td>2143</td>\n",
              "      <td>Right</td>\n",
              "      <td>5.0</td>\n",
              "      <td>5.0</td>\n",
              "      <td>5.0</td>\n",
              "      <td>High/ Medium</td>\n",
              "      <td>Neymar</td>\n",
              "      <td>Yes</td>\n",
              "      <td>LW</td>\n",
              "      <td>10.0</td>\n",
              "      <td>Aug 3, 2017</td>\n",
              "      <td>NaN</td>\n",
              "      <td>2022</td>\n",
              "      <td>5'9</td>\n",
              "      <td>150lbs</td>\n",
              "      <td>84+3</td>\n",
              "      <td>84+3</td>\n",
              "      <td>84+3</td>\n",
              "      <td>89+3</td>\n",
              "      <td>89+3</td>\n",
              "      <td>89+3</td>\n",
              "      <td>89+3</td>\n",
              "      <td>89+3</td>\n",
              "      <td>89+3</td>\n",
              "      <td>89+3</td>\n",
              "      <td>89+3</td>\n",
              "      <td>88+3</td>\n",
              "      <td>...</td>\n",
              "      <td>60+3</td>\n",
              "      <td>47+3</td>\n",
              "      <td>47+3</td>\n",
              "      <td>47+3</td>\n",
              "      <td>60+3</td>\n",
              "      <td>79.0</td>\n",
              "      <td>87.0</td>\n",
              "      <td>62.0</td>\n",
              "      <td>84.0</td>\n",
              "      <td>84.0</td>\n",
              "      <td>96.0</td>\n",
              "      <td>88.0</td>\n",
              "      <td>87.0</td>\n",
              "      <td>78.0</td>\n",
              "      <td>95.0</td>\n",
              "      <td>94.0</td>\n",
              "      <td>90.0</td>\n",
              "      <td>96.0</td>\n",
              "      <td>94.0</td>\n",
              "      <td>84.0</td>\n",
              "      <td>80.0</td>\n",
              "      <td>61.0</td>\n",
              "      <td>81.0</td>\n",
              "      <td>49.0</td>\n",
              "      <td>82.0</td>\n",
              "      <td>56.0</td>\n",
              "      <td>36.0</td>\n",
              "      <td>89.0</td>\n",
              "      <td>87.0</td>\n",
              "      <td>81.0</td>\n",
              "      <td>94.0</td>\n",
              "      <td>27.0</td>\n",
              "      <td>24.0</td>\n",
              "      <td>33.0</td>\n",
              "      <td>9.0</td>\n",
              "      <td>9.0</td>\n",
              "      <td>15.0</td>\n",
              "      <td>15.0</td>\n",
              "      <td>11.0</td>\n",
              "      <td>€228.1M</td>\n",
              "    </tr>\n",
              "    <tr>\n",
              "      <th>3</th>\n",
              "      <td>3</td>\n",
              "      <td>193080</td>\n",
              "      <td>De Gea</td>\n",
              "      <td>27</td>\n",
              "      <td>https://cdn.sofifa.org/players/4/19/193080.png</td>\n",
              "      <td>Spain</td>\n",
              "      <td>https://cdn.sofifa.org/flags/45.png</td>\n",
              "      <td>91</td>\n",
              "      <td>93</td>\n",
              "      <td>Manchester United</td>\n",
              "      <td>https://cdn.sofifa.org/teams/2/light/11.png</td>\n",
              "      <td>€72M</td>\n",
              "      <td>€260K</td>\n",
              "      <td>1471</td>\n",
              "      <td>Right</td>\n",
              "      <td>4.0</td>\n",
              "      <td>3.0</td>\n",
              "      <td>1.0</td>\n",
              "      <td>Medium/ Medium</td>\n",
              "      <td>Lean</td>\n",
              "      <td>Yes</td>\n",
              "      <td>GK</td>\n",
              "      <td>1.0</td>\n",
              "      <td>Jul 1, 2011</td>\n",
              "      <td>NaN</td>\n",
              "      <td>2020</td>\n",
              "      <td>6'4</td>\n",
              "      <td>168lbs</td>\n",
              "      <td>NaN</td>\n",
              "      <td>NaN</td>\n",
              "      <td>NaN</td>\n",
              "      <td>NaN</td>\n",
              "      <td>NaN</td>\n",
              "      <td>NaN</td>\n",
              "      <td>NaN</td>\n",
              "      <td>NaN</td>\n",
              "      <td>NaN</td>\n",
              "      <td>NaN</td>\n",
              "      <td>NaN</td>\n",
              "      <td>NaN</td>\n",
              "      <td>...</td>\n",
              "      <td>NaN</td>\n",
              "      <td>NaN</td>\n",
              "      <td>NaN</td>\n",
              "      <td>NaN</td>\n",
              "      <td>NaN</td>\n",
              "      <td>17.0</td>\n",
              "      <td>13.0</td>\n",
              "      <td>21.0</td>\n",
              "      <td>50.0</td>\n",
              "      <td>13.0</td>\n",
              "      <td>18.0</td>\n",
              "      <td>21.0</td>\n",
              "      <td>19.0</td>\n",
              "      <td>51.0</td>\n",
              "      <td>42.0</td>\n",
              "      <td>57.0</td>\n",
              "      <td>58.0</td>\n",
              "      <td>60.0</td>\n",
              "      <td>90.0</td>\n",
              "      <td>43.0</td>\n",
              "      <td>31.0</td>\n",
              "      <td>67.0</td>\n",
              "      <td>43.0</td>\n",
              "      <td>64.0</td>\n",
              "      <td>12.0</td>\n",
              "      <td>38.0</td>\n",
              "      <td>30.0</td>\n",
              "      <td>12.0</td>\n",
              "      <td>68.0</td>\n",
              "      <td>40.0</td>\n",
              "      <td>68.0</td>\n",
              "      <td>15.0</td>\n",
              "      <td>21.0</td>\n",
              "      <td>13.0</td>\n",
              "      <td>90.0</td>\n",
              "      <td>85.0</td>\n",
              "      <td>87.0</td>\n",
              "      <td>88.0</td>\n",
              "      <td>94.0</td>\n",
              "      <td>€138.6M</td>\n",
              "    </tr>\n",
              "    <tr>\n",
              "      <th>4</th>\n",
              "      <td>4</td>\n",
              "      <td>192985</td>\n",
              "      <td>K. De Bruyne</td>\n",
              "      <td>27</td>\n",
              "      <td>https://cdn.sofifa.org/players/4/19/192985.png</td>\n",
              "      <td>Belgium</td>\n",
              "      <td>https://cdn.sofifa.org/flags/7.png</td>\n",
              "      <td>91</td>\n",
              "      <td>92</td>\n",
              "      <td>Manchester City</td>\n",
              "      <td>https://cdn.sofifa.org/teams/2/light/10.png</td>\n",
              "      <td>€102M</td>\n",
              "      <td>€355K</td>\n",
              "      <td>2281</td>\n",
              "      <td>Right</td>\n",
              "      <td>4.0</td>\n",
              "      <td>5.0</td>\n",
              "      <td>4.0</td>\n",
              "      <td>High/ High</td>\n",
              "      <td>Normal</td>\n",
              "      <td>Yes</td>\n",
              "      <td>RCM</td>\n",
              "      <td>7.0</td>\n",
              "      <td>Aug 30, 2015</td>\n",
              "      <td>NaN</td>\n",
              "      <td>2023</td>\n",
              "      <td>5'11</td>\n",
              "      <td>154lbs</td>\n",
              "      <td>82+3</td>\n",
              "      <td>82+3</td>\n",
              "      <td>82+3</td>\n",
              "      <td>87+3</td>\n",
              "      <td>87+3</td>\n",
              "      <td>87+3</td>\n",
              "      <td>87+3</td>\n",
              "      <td>87+3</td>\n",
              "      <td>88+3</td>\n",
              "      <td>88+3</td>\n",
              "      <td>88+3</td>\n",
              "      <td>88+3</td>\n",
              "      <td>...</td>\n",
              "      <td>73+3</td>\n",
              "      <td>66+3</td>\n",
              "      <td>66+3</td>\n",
              "      <td>66+3</td>\n",
              "      <td>73+3</td>\n",
              "      <td>93.0</td>\n",
              "      <td>82.0</td>\n",
              "      <td>55.0</td>\n",
              "      <td>92.0</td>\n",
              "      <td>82.0</td>\n",
              "      <td>86.0</td>\n",
              "      <td>85.0</td>\n",
              "      <td>83.0</td>\n",
              "      <td>91.0</td>\n",
              "      <td>91.0</td>\n",
              "      <td>78.0</td>\n",
              "      <td>76.0</td>\n",
              "      <td>79.0</td>\n",
              "      <td>91.0</td>\n",
              "      <td>77.0</td>\n",
              "      <td>91.0</td>\n",
              "      <td>63.0</td>\n",
              "      <td>90.0</td>\n",
              "      <td>75.0</td>\n",
              "      <td>91.0</td>\n",
              "      <td>76.0</td>\n",
              "      <td>61.0</td>\n",
              "      <td>87.0</td>\n",
              "      <td>94.0</td>\n",
              "      <td>79.0</td>\n",
              "      <td>88.0</td>\n",
              "      <td>68.0</td>\n",
              "      <td>58.0</td>\n",
              "      <td>51.0</td>\n",
              "      <td>15.0</td>\n",
              "      <td>13.0</td>\n",
              "      <td>5.0</td>\n",
              "      <td>10.0</td>\n",
              "      <td>13.0</td>\n",
              "      <td>€196.4M</td>\n",
              "    </tr>\n",
              "    <tr>\n",
              "      <th>...</th>\n",
              "      <td>...</td>\n",
              "      <td>...</td>\n",
              "      <td>...</td>\n",
              "      <td>...</td>\n",
              "      <td>...</td>\n",
              "      <td>...</td>\n",
              "      <td>...</td>\n",
              "      <td>...</td>\n",
              "      <td>...</td>\n",
              "      <td>...</td>\n",
              "      <td>...</td>\n",
              "      <td>...</td>\n",
              "      <td>...</td>\n",
              "      <td>...</td>\n",
              "      <td>...</td>\n",
              "      <td>...</td>\n",
              "      <td>...</td>\n",
              "      <td>...</td>\n",
              "      <td>...</td>\n",
              "      <td>...</td>\n",
              "      <td>...</td>\n",
              "      <td>...</td>\n",
              "      <td>...</td>\n",
              "      <td>...</td>\n",
              "      <td>...</td>\n",
              "      <td>...</td>\n",
              "      <td>...</td>\n",
              "      <td>...</td>\n",
              "      <td>...</td>\n",
              "      <td>...</td>\n",
              "      <td>...</td>\n",
              "      <td>...</td>\n",
              "      <td>...</td>\n",
              "      <td>...</td>\n",
              "      <td>...</td>\n",
              "      <td>...</td>\n",
              "      <td>...</td>\n",
              "      <td>...</td>\n",
              "      <td>...</td>\n",
              "      <td>...</td>\n",
              "      <td>...</td>\n",
              "      <td>...</td>\n",
              "      <td>...</td>\n",
              "      <td>...</td>\n",
              "      <td>...</td>\n",
              "      <td>...</td>\n",
              "      <td>...</td>\n",
              "      <td>...</td>\n",
              "      <td>...</td>\n",
              "      <td>...</td>\n",
              "      <td>...</td>\n",
              "      <td>...</td>\n",
              "      <td>...</td>\n",
              "      <td>...</td>\n",
              "      <td>...</td>\n",
              "      <td>...</td>\n",
              "      <td>...</td>\n",
              "      <td>...</td>\n",
              "      <td>...</td>\n",
              "      <td>...</td>\n",
              "      <td>...</td>\n",
              "      <td>...</td>\n",
              "      <td>...</td>\n",
              "      <td>...</td>\n",
              "      <td>...</td>\n",
              "      <td>...</td>\n",
              "      <td>...</td>\n",
              "      <td>...</td>\n",
              "      <td>...</td>\n",
              "      <td>...</td>\n",
              "      <td>...</td>\n",
              "      <td>...</td>\n",
              "      <td>...</td>\n",
              "      <td>...</td>\n",
              "      <td>...</td>\n",
              "      <td>...</td>\n",
              "      <td>...</td>\n",
              "      <td>...</td>\n",
              "      <td>...</td>\n",
              "      <td>...</td>\n",
              "      <td>...</td>\n",
              "    </tr>\n",
              "    <tr>\n",
              "      <th>18202</th>\n",
              "      <td>18202</td>\n",
              "      <td>238813</td>\n",
              "      <td>J. Lundstram</td>\n",
              "      <td>19</td>\n",
              "      <td>https://cdn.sofifa.org/players/4/19/238813.png</td>\n",
              "      <td>England</td>\n",
              "      <td>https://cdn.sofifa.org/flags/14.png</td>\n",
              "      <td>47</td>\n",
              "      <td>65</td>\n",
              "      <td>Crewe Alexandra</td>\n",
              "      <td>https://cdn.sofifa.org/teams/2/light/121.png</td>\n",
              "      <td>€60K</td>\n",
              "      <td>€1K</td>\n",
              "      <td>1307</td>\n",
              "      <td>Right</td>\n",
              "      <td>1.0</td>\n",
              "      <td>2.0</td>\n",
              "      <td>2.0</td>\n",
              "      <td>Medium/ Medium</td>\n",
              "      <td>Lean</td>\n",
              "      <td>No</td>\n",
              "      <td>CM</td>\n",
              "      <td>22.0</td>\n",
              "      <td>May 3, 2017</td>\n",
              "      <td>NaN</td>\n",
              "      <td>2019</td>\n",
              "      <td>5'9</td>\n",
              "      <td>134lbs</td>\n",
              "      <td>42+2</td>\n",
              "      <td>42+2</td>\n",
              "      <td>42+2</td>\n",
              "      <td>44+2</td>\n",
              "      <td>44+2</td>\n",
              "      <td>44+2</td>\n",
              "      <td>44+2</td>\n",
              "      <td>44+2</td>\n",
              "      <td>45+2</td>\n",
              "      <td>45+2</td>\n",
              "      <td>45+2</td>\n",
              "      <td>44+2</td>\n",
              "      <td>...</td>\n",
              "      <td>45+2</td>\n",
              "      <td>45+2</td>\n",
              "      <td>45+2</td>\n",
              "      <td>45+2</td>\n",
              "      <td>45+2</td>\n",
              "      <td>34.0</td>\n",
              "      <td>38.0</td>\n",
              "      <td>40.0</td>\n",
              "      <td>49.0</td>\n",
              "      <td>25.0</td>\n",
              "      <td>42.0</td>\n",
              "      <td>30.0</td>\n",
              "      <td>34.0</td>\n",
              "      <td>45.0</td>\n",
              "      <td>43.0</td>\n",
              "      <td>54.0</td>\n",
              "      <td>57.0</td>\n",
              "      <td>60.0</td>\n",
              "      <td>49.0</td>\n",
              "      <td>76.0</td>\n",
              "      <td>43.0</td>\n",
              "      <td>55.0</td>\n",
              "      <td>40.0</td>\n",
              "      <td>47.0</td>\n",
              "      <td>38.0</td>\n",
              "      <td>46.0</td>\n",
              "      <td>46.0</td>\n",
              "      <td>39.0</td>\n",
              "      <td>52.0</td>\n",
              "      <td>43.0</td>\n",
              "      <td>45.0</td>\n",
              "      <td>40.0</td>\n",
              "      <td>48.0</td>\n",
              "      <td>47.0</td>\n",
              "      <td>10.0</td>\n",
              "      <td>13.0</td>\n",
              "      <td>7.0</td>\n",
              "      <td>8.0</td>\n",
              "      <td>9.0</td>\n",
              "      <td>€143K</td>\n",
              "    </tr>\n",
              "    <tr>\n",
              "      <th>18203</th>\n",
              "      <td>18203</td>\n",
              "      <td>243165</td>\n",
              "      <td>N. Christoffersson</td>\n",
              "      <td>19</td>\n",
              "      <td>https://cdn.sofifa.org/players/4/19/243165.png</td>\n",
              "      <td>Sweden</td>\n",
              "      <td>https://cdn.sofifa.org/flags/46.png</td>\n",
              "      <td>47</td>\n",
              "      <td>63</td>\n",
              "      <td>Trelleborgs FF</td>\n",
              "      <td>https://cdn.sofifa.org/teams/2/light/703.png</td>\n",
              "      <td>€60K</td>\n",
              "      <td>€1K</td>\n",
              "      <td>1098</td>\n",
              "      <td>Right</td>\n",
              "      <td>1.0</td>\n",
              "      <td>2.0</td>\n",
              "      <td>2.0</td>\n",
              "      <td>Medium/ Medium</td>\n",
              "      <td>Normal</td>\n",
              "      <td>No</td>\n",
              "      <td>ST</td>\n",
              "      <td>21.0</td>\n",
              "      <td>Mar 19, 2018</td>\n",
              "      <td>NaN</td>\n",
              "      <td>2020</td>\n",
              "      <td>6'3</td>\n",
              "      <td>170lbs</td>\n",
              "      <td>45+2</td>\n",
              "      <td>45+2</td>\n",
              "      <td>45+2</td>\n",
              "      <td>39+2</td>\n",
              "      <td>42+2</td>\n",
              "      <td>42+2</td>\n",
              "      <td>42+2</td>\n",
              "      <td>39+2</td>\n",
              "      <td>40+2</td>\n",
              "      <td>40+2</td>\n",
              "      <td>40+2</td>\n",
              "      <td>38+2</td>\n",
              "      <td>...</td>\n",
              "      <td>29+2</td>\n",
              "      <td>32+2</td>\n",
              "      <td>32+2</td>\n",
              "      <td>32+2</td>\n",
              "      <td>29+2</td>\n",
              "      <td>23.0</td>\n",
              "      <td>52.0</td>\n",
              "      <td>52.0</td>\n",
              "      <td>43.0</td>\n",
              "      <td>36.0</td>\n",
              "      <td>39.0</td>\n",
              "      <td>32.0</td>\n",
              "      <td>20.0</td>\n",
              "      <td>25.0</td>\n",
              "      <td>40.0</td>\n",
              "      <td>41.0</td>\n",
              "      <td>39.0</td>\n",
              "      <td>38.0</td>\n",
              "      <td>40.0</td>\n",
              "      <td>52.0</td>\n",
              "      <td>41.0</td>\n",
              "      <td>47.0</td>\n",
              "      <td>43.0</td>\n",
              "      <td>67.0</td>\n",
              "      <td>42.0</td>\n",
              "      <td>47.0</td>\n",
              "      <td>16.0</td>\n",
              "      <td>46.0</td>\n",
              "      <td>33.0</td>\n",
              "      <td>43.0</td>\n",
              "      <td>42.0</td>\n",
              "      <td>22.0</td>\n",
              "      <td>15.0</td>\n",
              "      <td>19.0</td>\n",
              "      <td>10.0</td>\n",
              "      <td>9.0</td>\n",
              "      <td>9.0</td>\n",
              "      <td>5.0</td>\n",
              "      <td>12.0</td>\n",
              "      <td>€113K</td>\n",
              "    </tr>\n",
              "    <tr>\n",
              "      <th>18204</th>\n",
              "      <td>18204</td>\n",
              "      <td>241638</td>\n",
              "      <td>B. Worman</td>\n",
              "      <td>16</td>\n",
              "      <td>https://cdn.sofifa.org/players/4/19/241638.png</td>\n",
              "      <td>England</td>\n",
              "      <td>https://cdn.sofifa.org/flags/14.png</td>\n",
              "      <td>47</td>\n",
              "      <td>67</td>\n",
              "      <td>Cambridge United</td>\n",
              "      <td>https://cdn.sofifa.org/teams/2/light/1944.png</td>\n",
              "      <td>€60K</td>\n",
              "      <td>€1K</td>\n",
              "      <td>1189</td>\n",
              "      <td>Right</td>\n",
              "      <td>1.0</td>\n",
              "      <td>3.0</td>\n",
              "      <td>2.0</td>\n",
              "      <td>Medium/ Medium</td>\n",
              "      <td>Normal</td>\n",
              "      <td>No</td>\n",
              "      <td>ST</td>\n",
              "      <td>33.0</td>\n",
              "      <td>Jul 1, 2017</td>\n",
              "      <td>NaN</td>\n",
              "      <td>2021</td>\n",
              "      <td>5'8</td>\n",
              "      <td>148lbs</td>\n",
              "      <td>45+2</td>\n",
              "      <td>45+2</td>\n",
              "      <td>45+2</td>\n",
              "      <td>45+2</td>\n",
              "      <td>46+2</td>\n",
              "      <td>46+2</td>\n",
              "      <td>46+2</td>\n",
              "      <td>45+2</td>\n",
              "      <td>44+2</td>\n",
              "      <td>44+2</td>\n",
              "      <td>44+2</td>\n",
              "      <td>44+2</td>\n",
              "      <td>...</td>\n",
              "      <td>33+2</td>\n",
              "      <td>28+2</td>\n",
              "      <td>28+2</td>\n",
              "      <td>28+2</td>\n",
              "      <td>33+2</td>\n",
              "      <td>25.0</td>\n",
              "      <td>40.0</td>\n",
              "      <td>46.0</td>\n",
              "      <td>38.0</td>\n",
              "      <td>38.0</td>\n",
              "      <td>45.0</td>\n",
              "      <td>38.0</td>\n",
              "      <td>27.0</td>\n",
              "      <td>28.0</td>\n",
              "      <td>44.0</td>\n",
              "      <td>70.0</td>\n",
              "      <td>69.0</td>\n",
              "      <td>50.0</td>\n",
              "      <td>47.0</td>\n",
              "      <td>58.0</td>\n",
              "      <td>45.0</td>\n",
              "      <td>60.0</td>\n",
              "      <td>55.0</td>\n",
              "      <td>32.0</td>\n",
              "      <td>45.0</td>\n",
              "      <td>32.0</td>\n",
              "      <td>15.0</td>\n",
              "      <td>48.0</td>\n",
              "      <td>43.0</td>\n",
              "      <td>55.0</td>\n",
              "      <td>41.0</td>\n",
              "      <td>32.0</td>\n",
              "      <td>13.0</td>\n",
              "      <td>11.0</td>\n",
              "      <td>6.0</td>\n",
              "      <td>5.0</td>\n",
              "      <td>10.0</td>\n",
              "      <td>6.0</td>\n",
              "      <td>13.0</td>\n",
              "      <td>€165K</td>\n",
              "    </tr>\n",
              "    <tr>\n",
              "      <th>18205</th>\n",
              "      <td>18205</td>\n",
              "      <td>246268</td>\n",
              "      <td>D. Walker-Rice</td>\n",
              "      <td>17</td>\n",
              "      <td>https://cdn.sofifa.org/players/4/19/246268.png</td>\n",
              "      <td>England</td>\n",
              "      <td>https://cdn.sofifa.org/flags/14.png</td>\n",
              "      <td>47</td>\n",
              "      <td>66</td>\n",
              "      <td>Tranmere Rovers</td>\n",
              "      <td>https://cdn.sofifa.org/teams/2/light/15048.png</td>\n",
              "      <td>€60K</td>\n",
              "      <td>€1K</td>\n",
              "      <td>1228</td>\n",
              "      <td>Right</td>\n",
              "      <td>1.0</td>\n",
              "      <td>3.0</td>\n",
              "      <td>2.0</td>\n",
              "      <td>Medium/ Medium</td>\n",
              "      <td>Lean</td>\n",
              "      <td>No</td>\n",
              "      <td>RW</td>\n",
              "      <td>34.0</td>\n",
              "      <td>Apr 24, 2018</td>\n",
              "      <td>NaN</td>\n",
              "      <td>2019</td>\n",
              "      <td>5'10</td>\n",
              "      <td>154lbs</td>\n",
              "      <td>47+2</td>\n",
              "      <td>47+2</td>\n",
              "      <td>47+2</td>\n",
              "      <td>47+2</td>\n",
              "      <td>46+2</td>\n",
              "      <td>46+2</td>\n",
              "      <td>46+2</td>\n",
              "      <td>47+2</td>\n",
              "      <td>45+2</td>\n",
              "      <td>45+2</td>\n",
              "      <td>45+2</td>\n",
              "      <td>46+2</td>\n",
              "      <td>...</td>\n",
              "      <td>35+2</td>\n",
              "      <td>31+2</td>\n",
              "      <td>31+2</td>\n",
              "      <td>31+2</td>\n",
              "      <td>35+2</td>\n",
              "      <td>44.0</td>\n",
              "      <td>50.0</td>\n",
              "      <td>39.0</td>\n",
              "      <td>42.0</td>\n",
              "      <td>40.0</td>\n",
              "      <td>51.0</td>\n",
              "      <td>34.0</td>\n",
              "      <td>32.0</td>\n",
              "      <td>32.0</td>\n",
              "      <td>52.0</td>\n",
              "      <td>61.0</td>\n",
              "      <td>60.0</td>\n",
              "      <td>52.0</td>\n",
              "      <td>21.0</td>\n",
              "      <td>71.0</td>\n",
              "      <td>64.0</td>\n",
              "      <td>42.0</td>\n",
              "      <td>40.0</td>\n",
              "      <td>48.0</td>\n",
              "      <td>34.0</td>\n",
              "      <td>33.0</td>\n",
              "      <td>22.0</td>\n",
              "      <td>44.0</td>\n",
              "      <td>47.0</td>\n",
              "      <td>50.0</td>\n",
              "      <td>46.0</td>\n",
              "      <td>20.0</td>\n",
              "      <td>25.0</td>\n",
              "      <td>27.0</td>\n",
              "      <td>14.0</td>\n",
              "      <td>6.0</td>\n",
              "      <td>14.0</td>\n",
              "      <td>8.0</td>\n",
              "      <td>9.0</td>\n",
              "      <td>€143K</td>\n",
              "    </tr>\n",
              "    <tr>\n",
              "      <th>18206</th>\n",
              "      <td>18206</td>\n",
              "      <td>246269</td>\n",
              "      <td>G. Nugent</td>\n",
              "      <td>16</td>\n",
              "      <td>https://cdn.sofifa.org/players/4/19/246269.png</td>\n",
              "      <td>England</td>\n",
              "      <td>https://cdn.sofifa.org/flags/14.png</td>\n",
              "      <td>46</td>\n",
              "      <td>66</td>\n",
              "      <td>Tranmere Rovers</td>\n",
              "      <td>https://cdn.sofifa.org/teams/2/light/15048.png</td>\n",
              "      <td>€60K</td>\n",
              "      <td>€1K</td>\n",
              "      <td>1321</td>\n",
              "      <td>Right</td>\n",
              "      <td>1.0</td>\n",
              "      <td>3.0</td>\n",
              "      <td>2.0</td>\n",
              "      <td>Medium/ Medium</td>\n",
              "      <td>Lean</td>\n",
              "      <td>No</td>\n",
              "      <td>CM</td>\n",
              "      <td>33.0</td>\n",
              "      <td>Oct 30, 2018</td>\n",
              "      <td>NaN</td>\n",
              "      <td>2019</td>\n",
              "      <td>5'10</td>\n",
              "      <td>176lbs</td>\n",
              "      <td>43+2</td>\n",
              "      <td>43+2</td>\n",
              "      <td>43+2</td>\n",
              "      <td>45+2</td>\n",
              "      <td>44+2</td>\n",
              "      <td>44+2</td>\n",
              "      <td>44+2</td>\n",
              "      <td>45+2</td>\n",
              "      <td>45+2</td>\n",
              "      <td>45+2</td>\n",
              "      <td>45+2</td>\n",
              "      <td>46+2</td>\n",
              "      <td>...</td>\n",
              "      <td>46+2</td>\n",
              "      <td>47+2</td>\n",
              "      <td>47+2</td>\n",
              "      <td>47+2</td>\n",
              "      <td>46+2</td>\n",
              "      <td>41.0</td>\n",
              "      <td>34.0</td>\n",
              "      <td>46.0</td>\n",
              "      <td>48.0</td>\n",
              "      <td>30.0</td>\n",
              "      <td>43.0</td>\n",
              "      <td>40.0</td>\n",
              "      <td>34.0</td>\n",
              "      <td>44.0</td>\n",
              "      <td>51.0</td>\n",
              "      <td>57.0</td>\n",
              "      <td>55.0</td>\n",
              "      <td>55.0</td>\n",
              "      <td>51.0</td>\n",
              "      <td>63.0</td>\n",
              "      <td>43.0</td>\n",
              "      <td>62.0</td>\n",
              "      <td>47.0</td>\n",
              "      <td>60.0</td>\n",
              "      <td>32.0</td>\n",
              "      <td>56.0</td>\n",
              "      <td>42.0</td>\n",
              "      <td>34.0</td>\n",
              "      <td>49.0</td>\n",
              "      <td>33.0</td>\n",
              "      <td>43.0</td>\n",
              "      <td>40.0</td>\n",
              "      <td>43.0</td>\n",
              "      <td>50.0</td>\n",
              "      <td>10.0</td>\n",
              "      <td>15.0</td>\n",
              "      <td>9.0</td>\n",
              "      <td>12.0</td>\n",
              "      <td>9.0</td>\n",
              "      <td>€165K</td>\n",
              "    </tr>\n",
              "  </tbody>\n",
              "</table>\n",
              "<p>18207 rows × 89 columns</p>\n",
              "</div>"
            ],
            "text/plain": [
              "       Unnamed: 0      ID  ... GKReflexes  Release Clause\n",
              "0               0  158023  ...        8.0         €226.5M\n",
              "1               1   20801  ...       11.0         €127.1M\n",
              "2               2  190871  ...       11.0         €228.1M\n",
              "3               3  193080  ...       94.0         €138.6M\n",
              "4               4  192985  ...       13.0         €196.4M\n",
              "...           ...     ...  ...        ...             ...\n",
              "18202       18202  238813  ...        9.0           €143K\n",
              "18203       18203  243165  ...       12.0           €113K\n",
              "18204       18204  241638  ...       13.0           €165K\n",
              "18205       18205  246268  ...        9.0           €143K\n",
              "18206       18206  246269  ...        9.0           €165K\n",
              "\n",
              "[18207 rows x 89 columns]"
            ]
          },
          "metadata": {
            "tags": []
          },
          "execution_count": 33
        }
      ]
    },
    {
      "cell_type": "code",
      "metadata": {
        "id": "srOyxXJ09ug6",
        "colab_type": "code",
        "outputId": "bfbf562a-cbcf-4d76-e4ea-f4f36d9dde1b",
        "colab": {
          "base_uri": "https://localhost:8080/",
          "height": 289
        }
      },
      "source": [
        "dataframe.columns"
      ],
      "execution_count": 0,
      "outputs": [
        {
          "output_type": "execute_result",
          "data": {
            "text/plain": [
              "Index(['Unnamed: 0', 'ID', 'Name', 'Age', 'Photo', 'Nationality', 'Flag',\n",
              "       'Overall', 'Potential', 'Club', 'Club Logo', 'Value', 'Wage', 'Special',\n",
              "       'Preferred Foot', 'International Reputation', 'Weak Foot',\n",
              "       'Skill Moves', 'Work Rate', 'Body Type', 'Real Face', 'Position',\n",
              "       'Jersey Number', 'Joined', 'Loaned From', 'Contract Valid Until',\n",
              "       'Height', 'Weight', 'LS', 'ST', 'RS', 'LW', 'LF', 'CF', 'RF', 'RW',\n",
              "       'LAM', 'CAM', 'RAM', 'LM', 'LCM', 'CM', 'RCM', 'RM', 'LWB', 'LDM',\n",
              "       'CDM', 'RDM', 'RWB', 'LB', 'LCB', 'CB', 'RCB', 'RB', 'Crossing',\n",
              "       'Finishing', 'HeadingAccuracy', 'ShortPassing', 'Volleys', 'Dribbling',\n",
              "       'Curve', 'FKAccuracy', 'LongPassing', 'BallControl', 'Acceleration',\n",
              "       'SprintSpeed', 'Agility', 'Reactions', 'Balance', 'ShotPower',\n",
              "       'Jumping', 'Stamina', 'Strength', 'LongShots', 'Aggression',\n",
              "       'Interceptions', 'Positioning', 'Vision', 'Penalties', 'Composure',\n",
              "       'Marking', 'StandingTackle', 'SlidingTackle', 'GKDiving', 'GKHandling',\n",
              "       'GKKicking', 'GKPositioning', 'GKReflexes', 'Release Clause'],\n",
              "      dtype='object')"
            ]
          },
          "metadata": {
            "tags": []
          },
          "execution_count": 34
        }
      ]
    },
    {
      "cell_type": "code",
      "metadata": {
        "id": "767CUeIB94Fe",
        "colab_type": "code",
        "colab": {}
      },
      "source": [
        "subset = dataframe[['Overall', 'Age', 'International Reputation', 'Weak Foot', 'Skill Moves']].dropna(axis=0, how='any')\n",
        "columns = subset.columns[1:]\n",
        "players = torch.tensor(subset.values).float()\n",
        "players.shape , players.type()"
      ],
      "execution_count": 0,
      "outputs": []
    },
    {
      "cell_type": "code",
      "metadata": {
        "id": "2U5itqCLK4mR",
        "colab_type": "code",
        "colab": {}
      },
      "source": [
        "data = players[:, 1:]\n",
        "data, data.shape"
      ],
      "execution_count": 0,
      "outputs": []
    },
    {
      "cell_type": "code",
      "metadata": {
        "id": "DjNj3ED6L_ap",
        "colab_type": "code",
        "colab": {}
      },
      "source": [
        "target = players[:, 0]\n",
        "target, target.shape"
      ],
      "execution_count": 0,
      "outputs": []
    },
    {
      "cell_type": "code",
      "metadata": {
        "id": "sKA8LVU-MzQj",
        "colab_type": "code",
        "outputId": "e4ef8ebc-263f-4348-ae7a-15581ab52dfb",
        "colab": {
          "base_uri": "https://localhost:8080/",
          "height": 34
        }
      },
      "source": [
        "mean = torch.mean( data, dim=0)\n",
        "mean"
      ],
      "execution_count": 0,
      "outputs": [
        {
          "output_type": "execute_result",
          "data": {
            "text/plain": [
              "tensor([25.1225,  1.1132,  2.9473,  2.3613])"
            ]
          },
          "metadata": {
            "tags": []
          },
          "execution_count": 42
        }
      ]
    },
    {
      "cell_type": "code",
      "metadata": {
        "id": "Gic0GBZ9NU7h",
        "colab_type": "code",
        "outputId": "ea595793-21ff-4c4b-c86e-a0878e2049fc",
        "colab": {
          "base_uri": "https://localhost:8080/",
          "height": 34
        }
      },
      "source": [
        "std = torch.std( data, dim=0)\n",
        "std"
      ],
      "execution_count": 0,
      "outputs": [
        {
          "output_type": "execute_result",
          "data": {
            "text/plain": [
              "tensor([4.6706, 0.3940, 0.6605, 0.7562])"
            ]
          },
          "metadata": {
            "tags": []
          },
          "execution_count": 44
        }
      ]
    },
    {
      "cell_type": "code",
      "metadata": {
        "id": "wDmACRnSNib0",
        "colab_type": "code",
        "colab": {}
      },
      "source": [
        "norm = (data - mean)/torch.sqrt(std)\n",
        "norm"
      ],
      "execution_count": 0,
      "outputs": []
    },
    {
      "cell_type": "code",
      "metadata": {
        "id": "--J8EMvcPB93",
        "colab_type": "code",
        "outputId": "59d58824-1d87-4ce3-d634-eca6defa28ce",
        "colab": {
          "base_uri": "https://localhost:8080/",
          "height": 85
        }
      },
      "source": [
        "good = data[torch.ge(target, 85)]\n",
        "average = data[torch.gt(target, 70) & torch.lt(target, 85)]\n",
        "notSoGood = data[torch.le(target, 70)]\n",
        "\n",
        "goodMean = torch.mean(good, dim=0)\n",
        "averageMean = torch.mean(average, dim=0)\n",
        "notSoGoodMean = torch.mean(notSoGood, dim=0)\n",
        "\n",
        "# goodMean, averageMean, notSoGoodMean\n",
        "\n",
        "for i, args in enumerate(zip(columns, goodMean, averageMean, notSoGoodMean)):\n",
        "  print('{:25} {:0.2f} {:6.2f}'.format(*args))"
      ],
      "execution_count": 0,
      "outputs": [
        {
          "output_type": "stream",
          "text": [
            "Age                       28.35  27.23\n",
            "International Reputation  3.38   1.36\n",
            "Weak Foot                 3.45   3.11\n",
            "Skill Moves               3.04   2.75\n"
          ],
          "name": "stdout"
        }
      ]
    }
  ]
}